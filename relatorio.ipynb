version https://git-lfs.github.com/spec/v1
oid sha256:678cc0492a9d4620b27a4d531877520d3b185337075b770824dc644fb9f445ab
size 68920198
