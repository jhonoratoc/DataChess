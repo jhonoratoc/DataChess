version https://git-lfs.github.com/spec/v1
oid sha256:cd353cdf0730842d2a5c607d5f480e134855a4d539f10ca81a27609e56713825
size 68648427
