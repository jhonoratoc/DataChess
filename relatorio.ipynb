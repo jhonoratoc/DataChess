version https://git-lfs.github.com/spec/v1
oid sha256:0ba53b3057de14acfaba07d8a433544b0414a21b619e286d6944c427b24f95e3
size 68547509
