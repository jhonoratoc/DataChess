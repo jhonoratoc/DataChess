version https://git-lfs.github.com/spec/v1
oid sha256:5b7dd47d389b0707331506848111fbdbc66db67bb17356876645a1a490f728b2
size 68671911
