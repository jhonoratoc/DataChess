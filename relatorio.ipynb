version https://git-lfs.github.com/spec/v1
oid sha256:18fdf45ac68a71cca2455894bb48192c0ec3dd656e00689c9034afb0609de160
size 62741247
