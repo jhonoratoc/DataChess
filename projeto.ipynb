version https://git-lfs.github.com/spec/v1
oid sha256:cfd9c09ead9d3aa6783893f90e2c62581da2edb7831d1e7849466bf5a28d3b30
size 70396386
